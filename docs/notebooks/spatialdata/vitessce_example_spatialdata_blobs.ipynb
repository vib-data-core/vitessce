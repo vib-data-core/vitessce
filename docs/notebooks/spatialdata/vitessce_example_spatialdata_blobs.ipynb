{
 "cells": [
  {
   "cell_type": "code",
   "execution_count": 1,
   "metadata": {},
   "outputs": [],
   "source": [
    "import os\n",
    "\n",
    "from vitessce import (\n",
    "    VitessceConfig,\n",
    "    Component as cm,\n",
    "    CoordinationType as ct,\n",
    "    MultiImageWrapper,\n",
    ")"
   ]
  },
  {
   "cell_type": "code",
   "execution_count": 2,
   "metadata": {},
   "outputs": [
    {
     "name": "stderr",
     "output_type": "stream",
     "text": [
      "/Users/arnedf/miniconda3/envs/vitessce/lib/python3.12/site-packages/dask/dataframe/__init__.py:31: FutureWarning: The legacy Dask DataFrame implementation is deprecated and will be removed in a future version. Set the configuration option `dataframe.query-planning` to `True` or None to enable the new Dask Dataframe implementation and silence this warning.\n",
      "  warnings.warn(\n",
      "/Users/arnedf/miniconda3/envs/vitessce/lib/python3.12/site-packages/anndata/_core/anndata.py:401: FutureWarning: The dtype argument is deprecated and will be removed in late 2024.\n",
      "  warnings.warn(\n",
      "/Users/arnedf/miniconda3/envs/vitessce/lib/python3.12/site-packages/spatialdata/models/models.py:1053: UserWarning: Converting `region_key: region` to categorical dtype.\n",
      "  return convert_region_column_to_categorical(adata)\n"
     ]
    },
    {
     "name": "stdout",
     "output_type": "stream",
     "text": [
      "\u001b[34mINFO    \u001b[0m The Zarr backing store has been changed from \u001b[3;35mNone\u001b[0m the new file path:                                      \n",
      "         \u001b[35m/var/folders/q5/7yhs0l6d0x771g7qdbhvkvmr0000gp/T/\u001b[0m\u001b[95msdata_c7ce6b92-1532-4e9d-a471-5dddd7be1dcb\u001b[0m               \n"
     ]
    }
   ],
   "source": [
    "import uuid\n",
    "from tempfile import tempdir\n",
    "import spatialdata\n",
    "\n",
    "sdata = spatialdata.datasets.blobs()\n",
    "\n",
    "sdata.write( os.path.join( tempdir, f\"sdata_{uuid.uuid4()}\" )  )"
   ]
  },
  {
   "cell_type": "code",
   "execution_count": 3,
   "metadata": {},
   "outputs": [],
   "source": [
    "output_path_img = os.path.join( sdata.path, \"images\", \"blobs_image\" )"
   ]
  },
  {
   "cell_type": "code",
   "execution_count": 4,
   "metadata": {},
   "outputs": [],
   "source": [
    "from vitessce import OmeZarrWrapper\n",
    "\n",
    "vc = VitessceConfig(schema_version=\"1.0.15\", name='liver', description='Resolve liver')\n",
    "\n",
    "dataset = vc.add_dataset(name='Liver dataset').add_object(\n",
    "    MultiImageWrapper(\n",
    "        image_wrappers=[\n",
    "            OmeZarrWrapper(img_path=output_path_img, is_bitmask=False, name='image'),\n",
    "        ],\n",
    " )\n",
    ")"
   ]
  },
  {
   "cell_type": "code",
   "execution_count": 5,
   "metadata": {},
   "outputs": [],
   "source": [
    "spatial_plot = vc.add_view(cm.SPATIAL, dataset=dataset)\n",
    "layer_controller = vc.add_view(cm.LAYER_CONTROLLER, dataset=dataset)"
   ]
  },
  {
   "cell_type": "code",
   "execution_count": 6,
   "metadata": {},
   "outputs": [],
   "source": [
    "vc.link_views([spatial_plot, layer_controller], [ct.SPATIAL_ZOOM, ct.SPATIAL_TARGET_X, ct.SPATIAL_TARGET_Y])\n",
    "\n",
    "vc.layout((spatial_plot | layer_controller) );"
   ]
  },
  {
   "cell_type": "code",
   "execution_count": 7,
   "metadata": {},
   "outputs": [
    {
     "data": {
      "application/vnd.jupyter.widget-view+json": {
       "model_id": "675805ac6ea44f5281e93102f94014c6",
       "version_major": 2,
       "version_minor": 1
      },
      "text/plain": [
       "VitessceWidget(config={'version': '1.0.15', 'name': 'liver', 'description': 'Resolve liver', 'datasets': [{'ui…"
      ]
     },
     "execution_count": 7,
     "metadata": {},
     "output_type": "execute_result"
    }
   ],
   "source": [
    "vw = vc.widget()\n",
    "vw"
   ]
  },
  {
   "cell_type": "markdown",
   "metadata": {},
   "source": [
    "### upload to bucket, and get the config_dict"
   ]
  },
  {
   "cell_type": "code",
   "execution_count": null,
   "metadata": {},
   "outputs": [],
   "source": [
    "import boto3\n",
    "\n",
    "s3 = boto3.resource(\n",
    "    service_name='s3',\n",
    "    endpoint_url=\"https://objectstor.vib.be\",\n",
    "    aws_access_key_id=os.environ['ACCESS_KEY'],\n",
    "    aws_secret_access_key=os.environ['SECRET_KEY'],\n",
    ")\n",
    "\n",
    "config_dict = vc.export(to='S3', s3=s3, bucket_name=\"spatial-hackathon-private\", prefix='_test_vitessce_1')"
   ]
  },
  {
   "cell_type": "code",
   "execution_count": 23,
   "metadata": {},
   "outputs": [],
   "source": [
    "import json\n",
    "\n",
    "with open( \"spatialdata_blobs.json\", \"w\" ) as f: # this .json should be uploaded to the bucket\n",
    "    json.dump(config_dict, f, indent=4)"
   ]
  },
  {
   "cell_type": "code",
   "execution_count": 25,
   "metadata": {},
   "outputs": [
    {
     "data": {
      "text/plain": [
       "{'version': '1.0.15',\n",
       " 'name': 'liver',\n",
       " 'description': 'Resolve liver',\n",
       " 'datasets': [{'uid': 'A',\n",
       "   'name': 'Liver dataset',\n",
       "   'files': [{'fileType': 'raster.json',\n",
       "     'options': {'schemaVersion': '0.0.2',\n",
       "      'usePhysicalSizeScaling': False,\n",
       "      'images': [{'name': 'image',\n",
       "        'type': 'ome-zarr',\n",
       "        'url': 'https://spatial-hackathon-private.s3.amazonaws.com/_test_vitessce_1/A/0/d14db50d-e887-4660-b7f5-fa3bc2fd98b7.ome.zarr'}],\n",
       "      'renderLayers': ['image']}}]}],\n",
       " 'coordinationSpace': {'dataset': {'A': 'A'},\n",
       "  'spatialZoom': {'A': None},\n",
       "  'spatialTargetX': {'A': None},\n",
       "  'spatialTargetY': {'A': None}},\n",
       " 'layout': [{'component': 'spatial',\n",
       "   'coordinationScopes': {'dataset': 'A',\n",
       "    'spatialZoom': 'A',\n",
       "    'spatialTargetX': 'A',\n",
       "    'spatialTargetY': 'A'},\n",
       "   'x': 0,\n",
       "   'y': 0,\n",
       "   'w': 6,\n",
       "   'h': 12},\n",
       "  {'component': 'layerController',\n",
       "   'coordinationScopes': {'dataset': 'A',\n",
       "    'spatialZoom': 'A',\n",
       "    'spatialTargetX': 'A',\n",
       "    'spatialTargetY': 'A'},\n",
       "   'x': 6,\n",
       "   'y': 0,\n",
       "   'w': 6,\n",
       "   'h': 12}],\n",
       " 'initStrategy': 'auto'}"
      ]
     },
     "execution_count": 25,
     "metadata": {},
     "output_type": "execute_result"
    }
   ],
   "source": [
    "# unfortunately url is not correct, so we need to change 'https://spatial-hackathon-private.s3.amazonaws.com' to 'https://objectstor.vib.be/spatial-hackathon-private'.\n",
    "\n",
    "config_dict"
   ]
  }
 ],
 "metadata": {
  "kernelspec": {
   "display_name": "vitessce",
   "language": "python",
   "name": "python3"
  },
  "language_info": {
   "codemirror_mode": {
    "name": "ipython",
    "version": 3
   },
   "file_extension": ".py",
   "mimetype": "text/x-python",
   "name": "python",
   "nbconvert_exporter": "python",
   "pygments_lexer": "ipython3",
   "version": "3.12.8"
  }
 },
 "nbformat": 4,
 "nbformat_minor": 4
}

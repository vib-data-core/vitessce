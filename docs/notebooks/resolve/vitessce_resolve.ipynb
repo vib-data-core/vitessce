{
 "cells": [
  {
   "cell_type": "markdown",
   "metadata": {},
   "source": [
    "As starting point we take a SpatialData `.zarr` file, and preprocess it, so it can be visualized by Vitessce.\n",
    "\n",
    "A SpatialData `.zarr` file can be created e.g. as follows:\n",
    "\n",
    "```\n",
    "import harpy as hp\n",
    "sdata=hp.datasets.resolve_example()\n",
    "sdata.write( \".../sdata_resolve.zarr\" ) # change this output path\n",
    "```"
   ]
  },
  {
   "cell_type": "code",
   "execution_count": 1,
   "metadata": {},
   "outputs": [],
   "source": [
    "import os\n",
    "\n",
    "from vitessce import (\n",
    "    VitessceConfig,\n",
    "    Component as cm,\n",
    "    AnnDataWrapper,\n",
    "    MultiImageWrapper,\n",
    ")\n",
    "\n",
    "from vitessce.data_utils import (\n",
    "    optimize_adata,\n",
    "    VAR_CHUNK_SIZE,\n",
    ")\n",
    "\n",
    "from vitessce.data_utils import multiplex_img_to_ome_zarr"
   ]
  },
  {
   "cell_type": "code",
   "execution_count": null,
   "metadata": {},
   "outputs": [
    {
     "name": "stderr",
     "output_type": "stream",
     "text": [
      "/Users/arnedf/miniconda3/envs/vitessce/lib/python3.12/site-packages/dask/dataframe/__init__.py:31: FutureWarning: The legacy Dask DataFrame implementation is deprecated and will be removed in a future version. Set the configuration option `dataframe.query-planning` to `True` or None to enable the new Dask Dataframe implementation and silence this warning.\n",
      "  warnings.warn(\n",
      "/Users/arnedf/miniconda3/envs/vitessce/lib/python3.12/site-packages/zarr/creation.py:614: UserWarning: ignoring keyword argument 'read_only'\n",
      "  compressor, fill_value = _kwargs_compat(compressor, fill_value, kwargs)\n",
      "/Users/arnedf/miniconda3/envs/vitessce/lib/python3.12/site-packages/anndata/_core/aligned_df.py:68: ImplicitModificationWarning: Transforming to str index.\n",
      "  warnings.warn(\"Transforming to str index.\", ImplicitModificationWarning)\n"
     ]
    }
   ],
   "source": [
    "from spatialdata import read_zarr\n",
    "\n",
    "path  = \"/Users/arnedf/VIB/DATA/test_data\" # change this path to where sdata is.\n",
    "\n",
    "sdata = read_zarr( os.path.join( path, \"sdata_resolve_vitessce\" ) )\n",
    "\n",
    "img_layer = \"raw_image\"\n",
    "labels_layer = \"segmentation_mask\"\n",
    "table_layer = \"table_transcriptomics_cluster\"\n",
    "\n",
    "output_path_img= os.path.join( path, \"raw_image.ome.zarr\" )\n",
    "output_path_masks= os.path.join( path, \"masks.ome.zarr\" )\n",
    "output_path_adata= os.path.join( path, \"adata.zarr\" )\n",
    "\n",
    "array=sdata[ \"raw_image\" ].data.compute()\n",
    "multiplex_img_to_ome_zarr( img_arr=array, channel_names=[ \"grey\" ], axes=\"cyx\",  output_path=output_path_img)\n",
    "array=sdata[ \"segmentation_mask\" ].data.compute()\n",
    "multiplex_img_to_ome_zarr( img_arr=array[ None,... ], channel_names=[ \"grey\" ], axes=\"cyx\",  output_path=output_path_masks )\n",
    "\n",
    "adata=sdata[ \"table_transcriptomics_cluster\" ]\n",
    "\n",
    "adata.obs.index = adata.obs[ \"cell_ID\" ]\n",
    "adata.obs.index.name = None\n",
    "\n",
    "adata = optimize_adata(\n",
    "    adata,\n",
    "    obs_cols=[ \"cell_ID\", \"total_counts\", \"leiden\",],\n",
    "    obsm_keys=[ \"X_umap\", \"spatial\"],\n",
    "    optimize_X=True,\n",
    "    to_dense_X=True,\n",
    ")\n",
    "adata.write_zarr(output_path_adata, chunks=[adata.shape[0], VAR_CHUNK_SIZE])"
   ]
  },
  {
   "cell_type": "code",
   "execution_count": 3,
   "metadata": {},
   "outputs": [
    {
     "data": {
      "text/html": [
       "<div>\n",
       "<style scoped>\n",
       "    .dataframe tbody tr th:only-of-type {\n",
       "        vertical-align: middle;\n",
       "    }\n",
       "\n",
       "    .dataframe tbody tr th {\n",
       "        vertical-align: top;\n",
       "    }\n",
       "\n",
       "    .dataframe thead th {\n",
       "        text-align: right;\n",
       "    }\n",
       "</style>\n",
       "<table border=\"1\" class=\"dataframe\">\n",
       "  <thead>\n",
       "    <tr style=\"text-align: right;\">\n",
       "      <th></th>\n",
       "      <th>cell_ID</th>\n",
       "      <th>fov_labels</th>\n",
       "      <th>n_genes_by_counts</th>\n",
       "      <th>log1p_n_genes_by_counts</th>\n",
       "      <th>total_counts</th>\n",
       "      <th>log1p_total_counts</th>\n",
       "      <th>pct_counts_in_top_2_genes</th>\n",
       "      <th>pct_counts_in_top_5_genes</th>\n",
       "      <th>n_counts</th>\n",
       "      <th>shapeSize</th>\n",
       "      <th>leiden</th>\n",
       "    </tr>\n",
       "  </thead>\n",
       "  <tbody>\n",
       "    <tr>\n",
       "      <th>1</th>\n",
       "      <td>1</td>\n",
       "      <td>segmentation_mask</td>\n",
       "      <td>14</td>\n",
       "      <td>2.708050</td>\n",
       "      <td>38</td>\n",
       "      <td>3.663562</td>\n",
       "      <td>39.473684</td>\n",
       "      <td>65.789474</td>\n",
       "      <td>38</td>\n",
       "      <td>1063</td>\n",
       "      <td>4</td>\n",
       "    </tr>\n",
       "    <tr>\n",
       "      <th>2</th>\n",
       "      <td>2</td>\n",
       "      <td>segmentation_mask</td>\n",
       "      <td>11</td>\n",
       "      <td>2.484907</td>\n",
       "      <td>134</td>\n",
       "      <td>4.905275</td>\n",
       "      <td>76.865672</td>\n",
       "      <td>91.791045</td>\n",
       "      <td>134</td>\n",
       "      <td>2317</td>\n",
       "      <td>5</td>\n",
       "    </tr>\n",
       "    <tr>\n",
       "      <th>4</th>\n",
       "      <td>4</td>\n",
       "      <td>segmentation_mask</td>\n",
       "      <td>8</td>\n",
       "      <td>2.197225</td>\n",
       "      <td>136</td>\n",
       "      <td>4.919981</td>\n",
       "      <td>66.911765</td>\n",
       "      <td>88.970588</td>\n",
       "      <td>136</td>\n",
       "      <td>2192</td>\n",
       "      <td>1</td>\n",
       "    </tr>\n",
       "    <tr>\n",
       "      <th>5</th>\n",
       "      <td>5</td>\n",
       "      <td>segmentation_mask</td>\n",
       "      <td>10</td>\n",
       "      <td>2.397895</td>\n",
       "      <td>102</td>\n",
       "      <td>4.634729</td>\n",
       "      <td>79.411765</td>\n",
       "      <td>92.156863</td>\n",
       "      <td>102</td>\n",
       "      <td>1777</td>\n",
       "      <td>0</td>\n",
       "    </tr>\n",
       "    <tr>\n",
       "      <th>7</th>\n",
       "      <td>7</td>\n",
       "      <td>segmentation_mask</td>\n",
       "      <td>24</td>\n",
       "      <td>3.218876</td>\n",
       "      <td>53</td>\n",
       "      <td>3.988984</td>\n",
       "      <td>26.415094</td>\n",
       "      <td>47.169811</td>\n",
       "      <td>53</td>\n",
       "      <td>1417</td>\n",
       "      <td>4</td>\n",
       "    </tr>\n",
       "  </tbody>\n",
       "</table>\n",
       "</div>"
      ],
      "text/plain": [
       "   cell_ID         fov_labels  n_genes_by_counts  log1p_n_genes_by_counts  \\\n",
       "1        1  segmentation_mask                 14                 2.708050   \n",
       "2        2  segmentation_mask                 11                 2.484907   \n",
       "4        4  segmentation_mask                  8                 2.197225   \n",
       "5        5  segmentation_mask                 10                 2.397895   \n",
       "7        7  segmentation_mask                 24                 3.218876   \n",
       "\n",
       "   total_counts  log1p_total_counts  pct_counts_in_top_2_genes  \\\n",
       "1            38            3.663562                  39.473684   \n",
       "2           134            4.905275                  76.865672   \n",
       "4           136            4.919981                  66.911765   \n",
       "5           102            4.634729                  79.411765   \n",
       "7            53            3.988984                  26.415094   \n",
       "\n",
       "   pct_counts_in_top_5_genes  n_counts  shapeSize leiden  \n",
       "1                  65.789474        38       1063      4  \n",
       "2                  91.791045       134       2317      5  \n",
       "4                  88.970588       136       2192      1  \n",
       "5                  92.156863       102       1777      0  \n",
       "7                  47.169811        53       1417      4  "
      ]
     },
     "execution_count": 3,
     "metadata": {},
     "output_type": "execute_result"
    }
   ],
   "source": [
    "sdata[ \"table_transcriptomics_cluster\" ].obs.head()"
   ]
  },
  {
   "cell_type": "code",
   "execution_count": 4,
   "metadata": {},
   "outputs": [
    {
     "data": {
      "text/plain": [
       "<vitessce.config.VitessceConfigDataset at 0x16661fe90>"
      ]
     },
     "execution_count": 4,
     "metadata": {},
     "output_type": "execute_result"
    }
   ],
   "source": [
    "from vitessce import OmeZarrWrapper\n",
    "\n",
    "vc = VitessceConfig(schema_version=\"1.0.15\", name='liver', description='Resolve liver')\n",
    "\n",
    "dataset = vc.add_dataset(name='Liver dataset').add_object(\n",
    "    MultiImageWrapper(\n",
    "        image_wrappers=[\n",
    "            OmeZarrWrapper(img_path=output_path_masks, is_bitmask=True, name='segmentations'),\n",
    "            OmeZarrWrapper(img_path=output_path_img, is_bitmask=False, name='image'),\n",
    "        ],\n",
    " )\n",
    ")\n",
    "\n",
    "dataset.add_object(AnnDataWrapper(\n",
    "        adata_path=output_path_adata,\n",
    "        obs_embedding_paths=[\"obsm/X_umap\"],\n",
    "        obs_embedding_names=[\"umap\"],\n",
    "        obs_locations_path=\"obsm/spatial\",\n",
    "        obs_set_paths=[\"obs/leiden\"],\n",
    "        obs_set_names=[\"Leiden\"],\n",
    "        obs_feature_matrix_path=\"X\",\n",
    "        coordination_values={\n",
    "          \"obsType\": \"cell\",\n",
    "          \"featureType\": \"gene\",\n",
    "          \"featureValueType\": \"expression\"\n",
    "        }\n",
    "    ),\n",
    ")"
   ]
  },
  {
   "cell_type": "code",
   "execution_count": 5,
   "metadata": {},
   "outputs": [],
   "source": [
    "spatial_plot = vc.add_view(cm.SPATIAL, dataset=dataset)\n",
    "layer_controller = vc.add_view(cm.LAYER_CONTROLLER, dataset=dataset)\n",
    "umap_plot = vc.add_view(cm.SCATTERPLOT, dataset=dataset, mapping=\"umap\")\n",
    "cell_set_manager = vc.add_view(cm.OBS_SETS, dataset=dataset)\n",
    "genes = vc.add_view(cm.FEATURE_LIST, dataset=dataset)"
   ]
  },
  {
   "cell_type": "code",
   "execution_count": 6,
   "metadata": {},
   "outputs": [],
   "source": [
    "vc.layout((  ( spatial_plot | layer_controller ) / (  genes | cell_set_manager | umap_plot  ) ));"
   ]
  },
  {
   "cell_type": "code",
   "execution_count": 7,
   "metadata": {},
   "outputs": [
    {
     "data": {
      "text/html": [
       "<a href=\"http://vitessce.io/#?theme=light&url=data:,%7B%22version%22%3A+%221.0.15%22%2C+%22name%22%3A+%22liver%22%2C+%22description%22%3A+%22Resolve+liver%22%2C+%22datasets%22%3A+%5B%7B%22uid%22%3A+%22A%22%2C+%22name%22%3A+%22Liver+dataset%22%2C+%22files%22%3A+%5B%7B%22fileType%22%3A+%22raster.json%22%2C+%22options%22%3A+%7B%22schemaVersion%22%3A+%220.0.2%22%2C+%22usePhysicalSizeScaling%22%3A+false%2C+%22images%22%3A+%5B%7B%22name%22%3A+%22segmentations%22%2C+%22type%22%3A+%22ome-zarr%22%2C+%22url%22%3A+%22http%3A%2F%2Flocalhost%3A8000%2FA%2F0%2F63f6a8a0-b563-46b8-9b51-03157ad5a543.ome.zarr%22%2C+%22metadata%22%3A+%7B%22isBitmask%22%3A+true%7D%7D%2C+%7B%22name%22%3A+%22image%22%2C+%22type%22%3A+%22ome-zarr%22%2C+%22url%22%3A+%22http%3A%2F%2Flocalhost%3A8000%2FA%2F0%2Fe4be250e-c54e-44e8-ab0e-c2a22e7df01a.ome.zarr%22%7D%5D%2C+%22renderLayers%22%3A+%5B%22segmentations%22%2C+%22image%22%5D%7D%7D%2C+%7B%22fileType%22%3A+%22anndata.zarr%22%2C+%22url%22%3A+%22http%3A%2F%2Flocalhost%3A8000%2FA%2F1%2F4565fb7e-fc28-4acc-9c97-363ae7f8efba.adata.zarr%22%2C+%22options%22%3A+%7B%22obsLocations%22%3A+%7B%22path%22%3A+%22obsm%2Fspatial%22%7D%2C+%22obsEmbedding%22%3A+%5B%7B%22path%22%3A+%22obsm%2FX_umap%22%2C+%22dims%22%3A+%5B0%2C+1%5D%2C+%22embeddingType%22%3A+%22umap%22%7D%5D%2C+%22obsSets%22%3A+%5B%7B%22name%22%3A+%22Leiden%22%2C+%22path%22%3A+%22obs%2Fleiden%22%7D%5D%2C+%22obsFeatureMatrix%22%3A+%7B%22path%22%3A+%22X%22%7D%7D%2C+%22coordinationValues%22%3A+%7B%22obsType%22%3A+%22cell%22%2C+%22featureType%22%3A+%22gene%22%2C+%22featureValueType%22%3A+%22expression%22%7D%7D%5D%7D%5D%2C+%22coordinationSpace%22%3A+%7B%22dataset%22%3A+%7B%22A%22%3A+%22A%22%7D%2C+%22embeddingType%22%3A+%7B%22A%22%3A+%22umap%22%7D%7D%2C+%22layout%22%3A+%5B%7B%22component%22%3A+%22spatial%22%2C+%22coordinationScopes%22%3A+%7B%22dataset%22%3A+%22A%22%7D%2C+%22x%22%3A+0%2C+%22y%22%3A+0%2C+%22w%22%3A+6%2C+%22h%22%3A+6%7D%2C+%7B%22component%22%3A+%22layerController%22%2C+%22coordinationScopes%22%3A+%7B%22dataset%22%3A+%22A%22%7D%2C+%22x%22%3A+6%2C+%22y%22%3A+0%2C+%22w%22%3A+6%2C+%22h%22%3A+6%7D%2C+%7B%22component%22%3A+%22scatterplot%22%2C+%22coordinationScopes%22%3A+%7B%22dataset%22%3A+%22A%22%2C+%22embeddingType%22%3A+%22A%22%7D%2C+%22x%22%3A+6%2C+%22y%22%3A+6%2C+%22w%22%3A+6%2C+%22h%22%3A+6%7D%2C+%7B%22component%22%3A+%22obsSets%22%2C+%22coordinationScopes%22%3A+%7B%22dataset%22%3A+%22A%22%7D%2C+%22x%22%3A+3%2C+%22y%22%3A+6%2C+%22w%22%3A+3%2C+%22h%22%3A+6%7D%2C+%7B%22component%22%3A+%22featureList%22%2C+%22coordinationScopes%22%3A+%7B%22dataset%22%3A+%22A%22%7D%2C+%22x%22%3A+0%2C+%22y%22%3A+6%2C+%22w%22%3A+3%2C+%22h%22%3A+6%7D%5D%2C+%22initStrategy%22%3A+%22auto%22%7D\" target=\"_blank\">Open in Vitessce</a>"
      ],
      "text/plain": [
       "<IPython.core.display.HTML object>"
      ]
     },
     "metadata": {},
     "output_type": "display_data"
    }
   ],
   "source": [
    "from IPython.display import display, HTML\n",
    "url = vc.web_app()\n",
    "display(HTML(f'<a href=\"{url}\" target=\"_blank\">Open in Vitessce</a>'))"
   ]
  },
  {
   "cell_type": "code",
   "execution_count": 8,
   "metadata": {},
   "outputs": [
    {
     "name": "stdout",
     "output_type": "stream",
     "text": [
      "Uploading spatial-hackathon-public:_test_vitessce_1/A/0/63f6a8a0-b563-46b8-9b51-03157ad5a543.ome.zarr\n",
      "Uploading spatial-hackathon-public:_test_vitessce_1/A/0/e4be250e-c54e-44e8-ab0e-c2a22e7df01a.ome.zarr\n",
      "Uploading spatial-hackathon-public:_test_vitessce_1/A/1/4565fb7e-fc28-4acc-9c97-363ae7f8efba.adata.zarr\n"
     ]
    }
   ],
   "source": [
    "import boto3\n",
    "\n",
    "s3 = boto3.resource(\n",
    "    service_name='s3',\n",
    "    endpoint_url=\"https://objectstor.vib.be\",\n",
    "    aws_access_key_id=os.environ['ACCESS_KEY'],\n",
    "    aws_secret_access_key=os.environ['SECRET_KEY'],\n",
    ")\n",
    "\n",
    "config_dict = vc.export(to='S3', s3=s3, bucket_name=\"spatial-hackathon-public\", prefix='_test_vitessce_1')"
   ]
  },
  {
   "cell_type": "code",
   "execution_count": 9,
   "metadata": {},
   "outputs": [],
   "source": [
    "import json\n",
    "\n",
    "with open( \"config_resolve.json\", \"w\" ) as f: # this .json should be uploaded to the bucket, do not to forget to change url's before uploading\n",
    "    json.dump(config_dict, f, indent=4)"
   ]
  }
 ],
 "metadata": {
  "kernelspec": {
   "display_name": "vitessce",
   "language": "python",
   "name": "python3"
  },
  "language_info": {
   "codemirror_mode": {
    "name": "ipython",
    "version": 3
   },
   "file_extension": ".py",
   "mimetype": "text/x-python",
   "name": "python",
   "nbconvert_exporter": "python",
   "pygments_lexer": "ipython3",
   "version": "3.12.8"
  }
 },
 "nbformat": 4,
 "nbformat_minor": 2
}

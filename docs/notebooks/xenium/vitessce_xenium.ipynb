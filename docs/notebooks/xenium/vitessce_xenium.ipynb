{
 "cells": [
  {
   "cell_type": "markdown",
   "metadata": {},
   "source": [
    "As starting point we take a SpatialData `.zarr` file, and preprocess it, so it can be visualized by Vitessce.\n",
    "\n",
    "A SpatialData `.zarr` file can be created e.g. as follows:\n",
    "\n",
    "```\n",
    "import harpy as hp\n",
    "sdata=hp.datasets.xenium_example( output=\".../sdata_xenium.zarr\" ) # change this output path\n",
    "```"
   ]
  },
  {
   "cell_type": "code",
   "execution_count": null,
   "metadata": {},
   "outputs": [],
   "source": [
    "import os\n",
    "\n",
    "from vitessce import (\n",
    "    VitessceConfig,\n",
    "    Component as cm,\n",
    "    AnnDataWrapper,\n",
    "    MultiImageWrapper,\n",
    ")\n",
    "from vitessce.data_utils import (\n",
    "    optimize_adata,\n",
    "    VAR_CHUNK_SIZE,\n",
    ")\n",
    "\n",
    "from vitessce.data_utils import multiplex_img_to_ome_zarr"
   ]
  },
  {
   "cell_type": "code",
   "execution_count": null,
   "metadata": {},
   "outputs": [],
   "source": [
    "from spatialdata import read_zarr\n",
    "\n",
    "path = \"/Users/arnedf/VIB/DATA/test_data\" # change this path\n",
    "\n",
    "sdata = read_zarr(  os.path.join( path, \"sdata_xenium.zarr\")  )"
   ]
  },
  {
   "cell_type": "code",
   "execution_count": null,
   "metadata": {},
   "outputs": [],
   "source": [
    "sdata[ \"table_global\" ]"
   ]
  },
  {
   "cell_type": "markdown",
   "metadata": {},
   "source": [
    "Create `.zarr` files for `Vitessce`."
   ]
  },
  {
   "cell_type": "code",
   "execution_count": null,
   "metadata": {},
   "outputs": [],
   "source": [
    "output_path_img= os.path.join( path,  \"raw_image.ome.zarr\" )\n",
    "output_path_masks=os.path.join( path, \"masks.ome.zarr\" )\n",
    "output_path_adata=os.path.join( path, \"adata.zarr\" )\n",
    "\n",
    "img_layer = \"morphology_focus_global\"\n",
    "labels_layer = \"cell_labels_global\"\n",
    "table_layer = \"table_global\"\n",
    "\n",
    "array=sdata[ img_layer ][ \"scale0\" ][\"image\"].data.compute()\n",
    "multiplex_img_to_ome_zarr( img_arr=array, channel_names=[ \"grey\" ], axes=\"cyx\",  output_path=output_path_img)\n",
    "array=sdata[ labels_layer ][\"scale0\"][ \"image\" ].data.compute()\n",
    "multiplex_img_to_ome_zarr( img_arr=array[ None,... ], channel_names=[ \"grey\" ], axes=\"cyx\",  output_path=output_path_masks )\n",
    "\n",
    "adata=sdata[ table_layer ]\n",
    "\n",
    "adata.obs.index = adata.obs[ \"cell_ID\" ]\n",
    "adata.obs.index.name = None\n",
    "\n",
    "adata = optimize_adata(\n",
    "    adata,\n",
    "    obs_cols=[\"total_counts\"],\n",
    "    obsm_keys=[ \"spatial\"],\n",
    "    optimize_X=True,\n",
    "    to_dense_X=True,\n",
    ")\n",
    "adata.write_zarr(output_path_adata, chunks=[adata.shape[0], VAR_CHUNK_SIZE])"
   ]
  },
  {
   "cell_type": "markdown",
   "metadata": {},
   "source": [
    "Now copy these files to an S3 bucket using Globus."
   ]
  },
  {
   "cell_type": "markdown",
   "metadata": {},
   "source": [
    "Lets check locally."
   ]
  },
  {
   "cell_type": "markdown",
   "metadata": {},
   "source": [
    "# "
   ]
  },
  {
   "cell_type": "code",
   "execution_count": null,
   "metadata": {},
   "outputs": [],
   "source": [
    "from vitessce import OmeZarrWrapper\n",
    "\n",
    "vc = VitessceConfig(schema_version=\"1.0.15\", name='xenium data', description='xenium data')\n",
    "\n",
    "dataset = vc.add_dataset(name='Xenium').add_object(\n",
    "    MultiImageWrapper(\n",
    "        image_wrappers=[\n",
    "            OmeZarrWrapper(img_path=output_path_masks, is_bitmask=True, name='segmentations'),\n",
    "            OmeZarrWrapper(img_path=output_path_img, is_bitmask=False, name='image'),\n",
    "        ],\n",
    " )\n",
    ")\n",
    "\n",
    "dataset.add_object(AnnDataWrapper(\n",
    "        adata_path=output_path_adata,\n",
    "        obs_locations_path=\"obsm/spatial\",\n",
    "        obs_set_paths=[\"obs/total_counts\"],\n",
    "        obs_set_names=[\"Total counts\"],\n",
    "        obs_feature_matrix_path=\"X\",\n",
    "        coordination_values={\n",
    "          \"obsType\": \"cell\",\n",
    "          \"featureType\": \"gene\",\n",
    "          \"featureValueType\": \"expression\"\n",
    "        }\n",
    "\n",
    "    ),\n",
    ")"
   ]
  },
  {
   "cell_type": "code",
   "execution_count": 18,
   "metadata": {},
   "outputs": [],
   "source": [
    "spatial_plot = vc.add_view(cm.SPATIAL, dataset=dataset)\n",
    "layer_controller = vc.add_view(cm.LAYER_CONTROLLER, dataset=dataset)\n",
    "genes = vc.add_view(cm.FEATURE_LIST, dataset=dataset)"
   ]
  },
  {
   "cell_type": "code",
   "execution_count": 19,
   "metadata": {},
   "outputs": [],
   "source": [
    "vc.layout((spatial_plot | layer_controller/ genes));"
   ]
  },
  {
   "cell_type": "code",
   "execution_count": null,
   "metadata": {},
   "outputs": [],
   "source": [
    "from IPython.display import display, HTML\n",
    "url = vc.web_app()\n",
    "display(HTML(f'<a href=\"{url}\" target=\"_blank\">Open in Vitessce</a>'))"
   ]
  },
  {
   "cell_type": "markdown",
   "metadata": {},
   "source": [
    "You can create the `Vitessce` config, and copy the files using the following code, but it is probably more efficient to copy the files using S3, and create and manipulate the config manually."
   ]
  },
  {
   "cell_type": "code",
   "execution_count": null,
   "metadata": {},
   "outputs": [],
   "source": [
    "import boto3\n",
    "import json\n",
    "\n",
    "s3 = boto3.resource(\n",
    "    service_name='s3',\n",
    "    endpoint_url=\"https://objectstor.vib.be\",\n",
    "    aws_access_key_id=os.environ['ACCESS_KEY'],\n",
    "    aws_secret_access_key=os.environ['SECRET_KEY'],\n",
    ")\n",
    "\n",
    "config_dict = vc.export(to='S3', s3=s3, bucket_name=\"spatial-hackathon-public\", prefix='_test_vitessce_1')\n",
    "\n",
    "with open( \"config_xenium.json\", \"w\" ) as f: # this .json should be uploaded to the bucket, note that file paths still need to be updated\n",
    "    json.dump(config_dict, f, indent=4)"
   ]
  }
 ],
 "metadata": {
  "kernelspec": {
   "display_name": "vitessce",
   "language": "python",
   "name": "python3"
  },
  "language_info": {
   "codemirror_mode": {
    "name": "ipython",
    "version": 3
   },
   "file_extension": ".py",
   "mimetype": "text/x-python",
   "name": "python",
   "nbconvert_exporter": "python",
   "pygments_lexer": "ipython3",
   "version": "3.12.8"
  }
 },
 "nbformat": 4,
 "nbformat_minor": 2
}
